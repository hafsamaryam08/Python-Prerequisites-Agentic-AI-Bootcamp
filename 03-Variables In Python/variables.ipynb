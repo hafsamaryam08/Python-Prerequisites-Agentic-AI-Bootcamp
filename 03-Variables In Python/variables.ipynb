{
 "cells": [
  {
   "cell_type": "markdown",
   "id": "ea3b7ccf",
   "metadata": {},
   "source": [
    "### Variables\n",
    "Fundamental elements in programming used to store data that can be referenced and manipulated in a program. In Python, variables are created when you assign a value to them, and they do not need explicit declaration to reserve memory space."
   ]
  },
  {
   "cell_type": "markdown",
   "id": "b770abd4",
   "metadata": {},
   "source": [
    "1. Declaring And Assigning Variables"
   ]
  },
  {
   "cell_type": "code",
   "execution_count": 2,
   "id": "6d051009",
   "metadata": {},
   "outputs": [
    {
     "name": "stdout",
     "output_type": "stream",
     "text": [
      "age : 22\n",
      "Height: 5.5\n",
      "Name: Hafsa\n"
     ]
    }
   ],
   "source": [
    "age=22\n",
    "height=5.5\n",
    "name=\"Hafsa\"\n",
    "is_student=True\n",
    "\n",
    "## printing the variables\n",
    "print(\"age :\",age)\n",
    "print(\"Height:\",height)\n",
    "print(\"Name:\",name)"
   ]
  },
  {
   "cell_type": "markdown",
   "id": "027b5531",
   "metadata": {},
   "source": [
    "2. Naming Conventions\n",
    "\n",
    "- Variable names should be descriptive\n",
    "- They must start with a letter or an '_' and contains letter,numbers and underscores\n",
    "- Variables names case sensitive"
   ]
  },
  {
   "cell_type": "code",
   "execution_count": 3,
   "id": "86545b23",
   "metadata": {},
   "outputs": [],
   "source": [
    "# valid variable names\n",
    "first_name=\"Hafsa\"\n",
    "last_name=\"Maryam\""
   ]
  },
  {
   "cell_type": "code",
   "execution_count": 4,
   "id": "fabb527a",
   "metadata": {},
   "outputs": [
    {
     "ename": "SyntaxError",
     "evalue": "invalid decimal literal (3775253162.py, line 2)",
     "output_type": "error",
     "traceback": [
      "\u001b[1;36m  Cell \u001b[1;32mIn[4], line 2\u001b[1;36m\u001b[0m\n\u001b[1;33m    2age=30\u001b[0m\n\u001b[1;37m    ^\u001b[0m\n\u001b[1;31mSyntaxError\u001b[0m\u001b[1;31m:\u001b[0m invalid decimal literal\n"
     ]
    }
   ],
   "source": [
    "# Invalid variable names\n",
    "2age=30\n",
    "first-name=\"Hafsa\"\n",
    "@name=\"Hafsa\""
   ]
  },
  {
   "cell_type": "code",
   "execution_count": 5,
   "id": "9830c472",
   "metadata": {},
   "outputs": [],
   "source": [
    "## case sensitivity\n",
    "name=\"Hafsa\"\n",
    "Name=\"Maryam\""
   ]
  },
  {
   "cell_type": "markdown",
   "id": "96caa18b",
   "metadata": {},
   "source": [
    "3. Understanding Variable types"
   ]
  },
  {
   "cell_type": "code",
   "execution_count": 7,
   "id": "231a5f62",
   "metadata": {},
   "outputs": [
    {
     "name": "stdout",
     "output_type": "stream",
     "text": [
      "<class 'int'>\n",
      "<class 'float'>\n",
      "<class 'str'>\n",
      "<class 'bool'>\n"
     ]
    }
   ],
   "source": [
    "## Python is dynamically typed. Type of a variable is determined at runtime\n",
    "age=22 \n",
    "height=5.5 \n",
    "name=\"Hafsa\" \n",
    "is_student=True \n",
    "\n",
    "print(type(age))\n",
    "print(type(height))\n",
    "print(type(name))\n",
    "print(type(is_student))"
   ]
  },
  {
   "cell_type": "markdown",
   "id": "7ebff225",
   "metadata": {},
   "source": [
    "4. Type Checking and Conversion"
   ]
  },
  {
   "cell_type": "code",
   "execution_count": 9,
   "id": "f37c4c89",
   "metadata": {},
   "outputs": [
    {
     "data": {
      "text/plain": [
       "float"
      ]
     },
     "execution_count": 9,
     "metadata": {},
     "output_type": "execute_result"
    }
   ],
   "source": [
    "type(height)"
   ]
  },
  {
   "cell_type": "code",
   "execution_count": 10,
   "id": "c9a4c681",
   "metadata": {},
   "outputs": [
    {
     "name": "stdout",
     "output_type": "stream",
     "text": [
      "<class 'int'>\n",
      "22\n",
      "<class 'str'>\n"
     ]
    }
   ],
   "source": [
    "age=22\n",
    "print(type(age))\n",
    "\n",
    "# Type conversion\n",
    "age_str=str(age)\n",
    "print(age_str)\n",
    "print(type(age_str))"
   ]
  },
  {
   "cell_type": "code",
   "execution_count": null,
   "id": "48dc8937",
   "metadata": {},
   "outputs": [
    {
     "name": "stdout",
     "output_type": "stream",
     "text": [
      "<class 'int'>\n"
     ]
    }
   ],
   "source": [
    "age='22'\n",
    "print(type(int(age)))"
   ]
  },
  {
   "cell_type": "code",
   "execution_count": 12,
   "id": "58435e31",
   "metadata": {},
   "outputs": [
    {
     "ename": "ValueError",
     "evalue": "invalid literal for int() with base 10: 'Hafsa'",
     "output_type": "error",
     "traceback": [
      "\u001b[1;31m---------------------------------------------------------------------------\u001b[0m",
      "\u001b[1;31mValueError\u001b[0m                                Traceback (most recent call last)",
      "Cell \u001b[1;32mIn[12], line 2\u001b[0m\n\u001b[0;32m      1\u001b[0m name\u001b[38;5;241m=\u001b[39m\u001b[38;5;124m\"\u001b[39m\u001b[38;5;124mHafsa\u001b[39m\u001b[38;5;124m\"\u001b[39m\n\u001b[1;32m----> 2\u001b[0m \u001b[38;5;28mint\u001b[39m(name)\n",
      "\u001b[1;31mValueError\u001b[0m: invalid literal for int() with base 10: 'Hafsa'"
     ]
    }
   ],
   "source": [
    "name=\"Hafsa\"\n",
    "int(name)"
   ]
  },
  {
   "cell_type": "code",
   "execution_count": 13,
   "id": "c11071c1",
   "metadata": {},
   "outputs": [
    {
     "data": {
      "text/plain": [
       "float"
      ]
     },
     "execution_count": 13,
     "metadata": {},
     "output_type": "execute_result"
    }
   ],
   "source": [
    "height=5.11\n",
    "type(height)"
   ]
  },
  {
   "cell_type": "code",
   "execution_count": 14,
   "id": "5ab78ba7",
   "metadata": {},
   "outputs": [
    {
     "data": {
      "text/plain": [
       "5.0"
      ]
     },
     "execution_count": 14,
     "metadata": {},
     "output_type": "execute_result"
    }
   ],
   "source": [
    "float(int(height))"
   ]
  },
  {
   "cell_type": "markdown",
   "id": "80124655",
   "metadata": {},
   "source": [
    "5. Dynamic Typing"
   ]
  },
  {
   "cell_type": "code",
   "execution_count": 15,
   "id": "f950a26f",
   "metadata": {},
   "outputs": [
    {
     "name": "stdout",
     "output_type": "stream",
     "text": [
      "10 <class 'int'>\n",
      "Hello <class 'str'>\n",
      "3.14 <class 'float'>\n"
     ]
    }
   ],
   "source": [
    "## Python allows the type of a variable to change as the program executes\n",
    "var=10\n",
    "print(var,type(var))\n",
    "\n",
    "var=\"Hello\"\n",
    "print(var,type(var))\n",
    "\n",
    "var=3.14\n",
    "print(var,type(var))"
   ]
  },
  {
   "cell_type": "code",
   "execution_count": 17,
   "id": "e7f23896",
   "metadata": {},
   "outputs": [
    {
     "name": "stdout",
     "output_type": "stream",
     "text": [
      "22 <class 'int'>\n"
     ]
    }
   ],
   "source": [
    "age=int(input(\"What is the age\"))\n",
    "print(age,type(age))"
   ]
  },
  {
   "cell_type": "code",
   "execution_count": 18,
   "id": "47746588",
   "metadata": {},
   "outputs": [
    {
     "name": "stdout",
     "output_type": "stream",
     "text": [
      "Sum: 5.0\n",
      "Difference: -1.0\n",
      "Product: 6.0\n",
      "Quotient: 0.6666666666666666\n"
     ]
    }
   ],
   "source": [
    "## Simple calculator\n",
    "num1 = float(input(\"Enter first number: \"))\n",
    "num2 = float(input(\"Enter second number: \"))\n",
    "\n",
    "sum = num1 + num2\n",
    "difference = num1 - num2\n",
    "product = num1 * num2\n",
    "quotient = num1 / num2\n",
    "\n",
    "print(\"Sum:\", sum)\n",
    "print(\"Difference:\", difference)\n",
    "print(\"Product:\", product)\n",
    "print(\"Quotient:\", quotient)"
   ]
  }
 ],
 "metadata": {
  "kernelspec": {
   "display_name": "base",
   "language": "python",
   "name": "python3"
  },
  "language_info": {
   "codemirror_mode": {
    "name": "ipython",
    "version": 3
   },
   "file_extension": ".py",
   "mimetype": "text/x-python",
   "name": "python",
   "nbconvert_exporter": "python",
   "pygments_lexer": "ipython3",
   "version": "3.13.5"
  }
 },
 "nbformat": 4,
 "nbformat_minor": 5
}
