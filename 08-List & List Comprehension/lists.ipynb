{
 "cells": [
  {
   "cell_type": "markdown",
   "id": "13ca9e60",
   "metadata": {},
   "source": [
    "## Lists\n",
    "- Ordered, mutable collections of items.\n",
    "- Contain items of different data types."
   ]
  },
  {
   "cell_type": "markdown",
   "id": "1b2674a2",
   "metadata": {},
   "source": [
    "1. Creating Lists\n",
    "2. Accessing List Elements\n",
    "3. Modifying List Elements\n",
    "4. List Methods\n",
    "5. Slicing Lists\n",
    "6. Iterating Over Lists\n",
    "7. Iterating With Index\n",
    "8. List Comprehensions\n",
    "9. Basic List Comprehension\n",
    "10. List Comprehension With Condition\n",
    "11. Nested List Comprehension\n",
    "12. List Comprehension With Function Calls"
   ]
  },
  {
   "cell_type": "code",
   "execution_count": 1,
   "id": "eb535882",
   "metadata": {},
   "outputs": [
    {
     "name": "stdout",
     "output_type": "stream",
     "text": [
      "<class 'list'>\n"
     ]
    }
   ],
   "source": [
    "lst=[]\n",
    "print(type(lst))"
   ]
  },
  {
   "cell_type": "code",
   "execution_count": 2,
   "id": "9b3a3482",
   "metadata": {},
   "outputs": [
    {
     "name": "stdout",
     "output_type": "stream",
     "text": [
      "[1, 'Hello', 3.14, True]\n"
     ]
    }
   ],
   "source": [
    "mixed_list=[1,\"Hello\",3.14,True]\n",
    "print(mixed_list)"
   ]
  },
  {
   "cell_type": "markdown",
   "id": "6024dc57",
   "metadata": {},
   "source": [
    "Accessing List Elements"
   ]
  },
  {
   "cell_type": "code",
   "execution_count": 8,
   "id": "e1616f34",
   "metadata": {},
   "outputs": [
    {
     "name": "stdout",
     "output_type": "stream",
     "text": [
      "apple\n",
      "gauva\n",
      "['banana', 'cherry', 'kiwi', 'gauva']\n",
      "['banana', 'cherry']\n",
      "['gauva']\n",
      "[]\n",
      "[]\n"
     ]
    }
   ],
   "source": [
    "fruits=[\"apple\",\"banana\",\"cherry\",\"kiwi\",\"gauva\"]\n",
    "\n",
    "print(fruits[0])\n",
    "print(fruits[-1]) \n",
    "print(fruits[1:]) #get all elements from banana till guava\n",
    "print(fruits[1:3]) #pick everything till 3rd index\n",
    "print(fruits[-1:]) \n",
    "print(fruits[-1:2])  \n",
    "print(fruits[-1:-3]) #from -1 to -3, there's no such element"
   ]
  },
  {
   "cell_type": "markdown",
   "id": "b83beefc",
   "metadata": {},
   "source": [
    "Modifying List Elements"
   ]
  },
  {
   "cell_type": "code",
   "execution_count": 9,
   "id": "3d2a0dfc",
   "metadata": {},
   "outputs": [
    {
     "name": "stdout",
     "output_type": "stream",
     "text": [
      "['apple', 'banana', 'cherry', 'kiwi', 'gauva']\n",
      "['apple', 'mango', 'cherry', 'kiwi', 'gauva']\n",
      "['apple', 'o', 'r', 'a', 'n', 'g', 'e']\n"
     ]
    }
   ],
   "source": [
    "print(fruits)\n",
    "\n",
    "fruits[1]=\"mango\"\n",
    "print(fruits)\n",
    "\n",
    "fruits[1:]=\"orange\"\n",
    "print(fruits)"
   ]
  },
  {
   "cell_type": "markdown",
   "id": "1e19c247",
   "metadata": {},
   "source": [
    "List Methods"
   ]
  },
  {
   "cell_type": "code",
   "execution_count": 14,
   "id": "f8e2d448",
   "metadata": {},
   "outputs": [
    {
     "name": "stdout",
     "output_type": "stream",
     "text": [
      "['apple', 'banana', 'cherry', 'kiwi', 'gauva', 'orange']\n",
      "['apple', 'grapes', 'banana', 'cherry', 'kiwi', 'gauva', 'orange']\n",
      "['apple', 'grapes', 'banana', 'cherry', 'gauva', 'orange']\n",
      "orange\n",
      "['apple', 'grapes', 'banana', 'cherry', 'gauva']\n",
      "3\n",
      "1\n",
      "['apple', 'banana', 'cherry', 'gauva', 'grapes']\n",
      "['grapes', 'gauva', 'cherry', 'banana', 'apple']\n",
      "[]\n"
     ]
    }
   ],
   "source": [
    "fruits=[\"apple\",\"banana\",\"cherry\",\"kiwi\",\"gauva\"]\n",
    "\n",
    "fruits.append(\"orange\") #add an item to the end\n",
    "print(fruits)\n",
    "\n",
    "fruits.insert(1, \"grapes\") #add at specific index\n",
    "print(fruits)\n",
    "\n",
    "fruits.remove(\"kiwi\") #rmv first occurence of an item\n",
    "print(fruits)\n",
    "\n",
    "popped_fruits=fruits.pop() #pop and return last element\n",
    "print(popped_fruits)\n",
    "print(fruits)\n",
    "\n",
    "index=fruits.index(\"cherry\")\n",
    "print(index)\n",
    "\n",
    "print(fruits.count(\"banana\"))\n",
    "\n",
    "fruits.sort()\n",
    "print(fruits)\n",
    "\n",
    "fruits.reverse()\n",
    "print(fruits)\n",
    "\n",
    "fruits.clear()\n",
    "print(fruits)"
   ]
  },
  {
   "cell_type": "markdown",
   "id": "63f81bd1",
   "metadata": {},
   "source": [
    "Slicing List"
   ]
  },
  {
   "cell_type": "code",
   "execution_count": 15,
   "id": "e20b63a8",
   "metadata": {},
   "outputs": [
    {
     "name": "stdout",
     "output_type": "stream",
     "text": [
      "[3, 4, 5]\n",
      "[1, 2, 3, 4, 5]\n",
      "[6, 7, 8, 9, 10]\n",
      "[1, 3, 5, 7, 9]\n",
      "[10, 9, 8, 7, 6, 5, 4, 3, 2, 1]\n",
      "[10, 8, 6, 4, 2]\n"
     ]
    }
   ],
   "source": [
    "numbers = [1, 2, 3, 4, 5, 6, 7, 8, 9, 10]\n",
    "\n",
    "print(numbers[2:5])\n",
    "print(numbers[:5])\n",
    "print(numbers[5:])\n",
    "print(numbers[::2]) #jump 2 step size\n",
    "print(numbers[::-1]) #reverse the lsit\n",
    "print(numbers[::-2])"
   ]
  },
  {
   "cell_type": "markdown",
   "id": "2d58986f",
   "metadata": {},
   "source": [
    "Iterating Over List"
   ]
  },
  {
   "cell_type": "code",
   "execution_count": 16,
   "id": "7c7828dd",
   "metadata": {},
   "outputs": [
    {
     "name": "stdout",
     "output_type": "stream",
     "text": [
      "1\n",
      "2\n",
      "3\n",
      "4\n",
      "5\n",
      "6\n",
      "7\n",
      "8\n",
      "9\n",
      "10\n"
     ]
    }
   ],
   "source": [
    "for number in numbers:\n",
    "    print(number)"
   ]
  },
  {
   "cell_type": "markdown",
   "id": "c887d8d0",
   "metadata": {},
   "source": [
    "Iterating With Index"
   ]
  },
  {
   "cell_type": "code",
   "execution_count": 17,
   "id": "456d7a84",
   "metadata": {},
   "outputs": [
    {
     "name": "stdout",
     "output_type": "stream",
     "text": [
      "0 1\n",
      "1 2\n",
      "2 3\n",
      "3 4\n",
      "4 5\n",
      "5 6\n",
      "6 7\n",
      "7 8\n",
      "8 9\n",
      "9 10\n"
     ]
    }
   ],
   "source": [
    "for index,number in enumerate(numbers):\n",
    "    print(index,number)"
   ]
  },
  {
   "cell_type": "markdown",
   "id": "2ece301d",
   "metadata": {},
   "source": [
    "## List Comprehension\n",
    "- Powerful & concise way to create Lists in Python"
   ]
  },
  {
   "cell_type": "markdown",
   "id": "c96877cf",
   "metadata": {},
   "source": [
    "### Basic List Comprehension\n",
    "Basics Syntax            [expression for item in iterable]"
   ]
  },
  {
   "cell_type": "code",
   "execution_count": 20,
   "id": "5dbfc60e",
   "metadata": {},
   "outputs": [
    {
     "name": "stdout",
     "output_type": "stream",
     "text": [
      "[0, 1, 4, 9, 16, 25, 36, 49, 64, 81]\n",
      "[0, 1, 4, 9, 16, 25, 36, 49, 64, 81]\n"
     ]
    }
   ],
   "source": [
    "lst=[]\n",
    "for x in range(10):\n",
    "    lst.append(x**2)\n",
    "print(lst)\n",
    "\n",
    "square=[num**2 for num in range(10)]\n",
    "print(square)"
   ]
  },
  {
   "cell_type": "markdown",
   "id": "10ad8c30",
   "metadata": {},
   "source": [
    "### List Comprehension with Condition\n",
    "with conditional logic    [expression for item in iterable if condition]"
   ]
  },
  {
   "cell_type": "code",
   "execution_count": 21,
   "id": "7567290c",
   "metadata": {},
   "outputs": [
    {
     "name": "stdout",
     "output_type": "stream",
     "text": [
      "[0, 2, 4, 6, 8]\n",
      "[0, 2, 4, 6, 8]\n"
     ]
    }
   ],
   "source": [
    "lst=[]\n",
    "for i in range(10):\n",
    "    if i%2==0:\n",
    "        lst.append(i)\n",
    "print(lst)\n",
    "\n",
    "even_numbers=[num for num in range(10) if num%2==0]\n",
    "print(even_numbers)"
   ]
  },
  {
   "cell_type": "markdown",
   "id": "9e023bb2",
   "metadata": {},
   "source": [
    "### Nested List Comphrension\n",
    "Nested List Comprehension [expression for item1 in iterable1 for item2 in iterable2]"
   ]
  },
  {
   "cell_type": "code",
   "execution_count": 22,
   "id": "3e604803",
   "metadata": {},
   "outputs": [
    {
     "name": "stdout",
     "output_type": "stream",
     "text": [
      "[[1, 'a'], [1, 'b'], [1, 'c'], [1, 'd'], [2, 'a'], [2, 'b'], [2, 'c'], [2, 'd'], [3, 'a'], [3, 'b'], [3, 'c'], [3, 'd'], [4, 'a'], [4, 'b'], [4, 'c'], [4, 'd']]\n"
     ]
    }
   ],
   "source": [
    "lst1=[1,2,3,4]\n",
    "lst2=['a','b','c','d']\n",
    "\n",
    "pair=[[i,j] for i in lst1 for j in lst2]\n",
    "\n",
    "print(pair)"
   ]
  },
  {
   "cell_type": "markdown",
   "id": "8ba4f3fd",
   "metadata": {},
   "source": [
    "List Comprehension with function calls"
   ]
  },
  {
   "cell_type": "code",
   "execution_count": 24,
   "id": "1a068819",
   "metadata": {},
   "outputs": [
    {
     "name": "stdout",
     "output_type": "stream",
     "text": [
      "[5, 6, 4]\n"
     ]
    }
   ],
   "source": [
    "words = [\"hello\", \"python\", \"list\"]\n",
    "lengths = [len(word) for word in words]\n",
    "print(lengths)"
   ]
  }
 ],
 "metadata": {
  "kernelspec": {
   "display_name": "base",
   "language": "python",
   "name": "python3"
  },
  "language_info": {
   "codemirror_mode": {
    "name": "ipython",
    "version": 3
   },
   "file_extension": ".py",
   "mimetype": "text/x-python",
   "name": "python",
   "nbconvert_exporter": "python",
   "pygments_lexer": "ipython3",
   "version": "3.13.5"
  }
 },
 "nbformat": 4,
 "nbformat_minor": 5
}
