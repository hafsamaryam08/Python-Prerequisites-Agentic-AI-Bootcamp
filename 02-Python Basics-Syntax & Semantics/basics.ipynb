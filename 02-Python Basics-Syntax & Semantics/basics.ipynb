{
 "cells": [
  {
   "cell_type": "markdown",
   "id": "a6396985",
   "metadata": {},
   "source": [
    "### Syntax and Semantics in Python\n",
    "Syntax refers to the set of rules that defines the combinations of symbols that are considered to be correctly structured programs in a language. It is the correct arrangement of words and symbols in a code.\n",
    "\n",
    "Semantics refers to the meaning or the interpretation of the symbols, characters, and commands in a language. It is about what the code is supposed to do when it runs."
   ]
  },
  {
   "cell_type": "markdown",
   "id": "7bc8d4a9",
   "metadata": {},
   "source": [
    "### Basic Syntax Rules\n",
    "1. Case Sensitive"
   ]
  },
  {
   "cell_type": "code",
   "execution_count": null,
   "id": "16f52233",
   "metadata": {},
   "outputs": [
    {
     "name": "stdout",
     "output_type": "stream",
     "text": [
      "Hafsa\n",
      "Hafsa\n"
     ]
    }
   ],
   "source": [
    "name = \"Hafsa\"\n",
    "Name = \"Hafsa\" \n",
    "# these var are 2 different identifiers\n",
    "print(name)\n",
    "print(Name)"
   ]
  },
  {
   "cell_type": "markdown",
   "id": "63ba5ba6",
   "metadata": {},
   "source": [
    "2. Indentation"
   ]
  },
  {
   "cell_type": "code",
   "execution_count": 2,
   "id": "fce09165",
   "metadata": {},
   "outputs": [
    {
     "name": "stdout",
     "output_type": "stream",
     "text": [
      "32\n",
      "32\n"
     ]
    }
   ],
   "source": [
    "## many programming languages uses braces {} to delimit code but python uses indentation to define blocks of code, means all statements within a block must be indented at same level. Consistent use of spaces (commonly 4) or a tab is required.\n",
    "age=32\n",
    "if age>30: \n",
    "    print(age)\n",
    "print(age)"
   ]
  },
  {
   "cell_type": "markdown",
   "id": "cfc5e203",
   "metadata": {},
   "source": [
    "3. Line Continuation"
   ]
  },
  {
   "cell_type": "code",
   "execution_count": 3,
   "id": "9c8500a7",
   "metadata": {},
   "outputs": [
    {
     "name": "stdout",
     "output_type": "stream",
     "text": [
      "43\n"
     ]
    }
   ],
   "source": [
    "## Use a backslash (\\) at the end of line to continue a statement in the next line\n",
    "total=1+2+3+4+5+6+7+\\\n",
    "4+5+6\n",
    "\n",
    "print(total)"
   ]
  },
  {
   "cell_type": "markdown",
   "id": "6c09ebd0",
   "metadata": {},
   "source": [
    "4. Multiple Statements on a single line"
   ]
  },
  {
   "cell_type": "code",
   "execution_count": 5,
   "id": "fc8b675c",
   "metadata": {},
   "outputs": [
    {
     "name": "stdout",
     "output_type": "stream",
     "text": [
      "15\n"
     ]
    }
   ],
   "source": [
    "x=5; y=10; z=x+y\n",
    "print(z)"
   ]
  },
  {
   "cell_type": "markdown",
   "id": "271f075c",
   "metadata": {},
   "source": [
    "### Semantics in Python\n",
    "1. Variable Assignment"
   ]
  },
  {
   "cell_type": "code",
   "execution_count": null,
   "id": "f2540d43",
   "metadata": {},
   "outputs": [],
   "source": [
    "age=22 \n",
    "name=\"Hafsa\""
   ]
  },
  {
   "cell_type": "code",
   "execution_count": 12,
   "id": "d7989206",
   "metadata": {},
   "outputs": [
    {
     "data": {
      "text/plain": [
       "int"
      ]
     },
     "execution_count": 12,
     "metadata": {},
     "output_type": "execute_result"
    }
   ],
   "source": [
    "type(age)"
   ]
  },
  {
   "cell_type": "code",
   "execution_count": 13,
   "id": "f4b931c6",
   "metadata": {},
   "outputs": [
    {
     "data": {
      "text/plain": [
       "str"
      ]
     },
     "execution_count": 13,
     "metadata": {},
     "output_type": "execute_result"
    }
   ],
   "source": [
    "type(name)"
   ]
  },
  {
   "cell_type": "markdown",
   "id": "cffa3e7d",
   "metadata": {},
   "source": [
    "2. Type Inference"
   ]
  },
  {
   "cell_type": "code",
   "execution_count": 10,
   "id": "903e3e43",
   "metadata": {},
   "outputs": [
    {
     "name": "stdout",
     "output_type": "stream",
     "text": [
      "<class 'int'>\n",
      "<class 'str'>\n"
     ]
    }
   ],
   "source": [
    "variable=10\n",
    "print(type(variable))\n",
    "\n",
    "variable=\"Hafsa\"\n",
    "print(type(variable))"
   ]
  },
  {
   "cell_type": "markdown",
   "id": "fe37755d",
   "metadata": {},
   "source": [
    "3. Indentation Error"
   ]
  },
  {
   "cell_type": "code",
   "execution_count": 14,
   "id": "2444bb99",
   "metadata": {},
   "outputs": [
    {
     "name": "stdout",
     "output_type": "stream",
     "text": [
      "32\n"
     ]
    }
   ],
   "source": [
    "age=32\n",
    "if age>30:\n",
    "    print(age)"
   ]
  },
  {
   "cell_type": "markdown",
   "id": "774b035f",
   "metadata": {},
   "source": [
    "4. Name Error"
   ]
  },
  {
   "cell_type": "code",
   "execution_count": 15,
   "id": "59947a25",
   "metadata": {},
   "outputs": [
    {
     "ename": "NameError",
     "evalue": "name 'b' is not defined",
     "output_type": "error",
     "traceback": [
      "\u001b[1;31m---------------------------------------------------------------------------\u001b[0m",
      "\u001b[1;31mNameError\u001b[0m                                 Traceback (most recent call last)",
      "Cell \u001b[1;32mIn[15], line 1\u001b[0m\n\u001b[1;32m----> 1\u001b[0m a\u001b[38;5;241m=\u001b[39mb\n",
      "\u001b[1;31mNameError\u001b[0m: name 'b' is not defined"
     ]
    }
   ],
   "source": [
    "a=b"
   ]
  },
  {
   "cell_type": "code",
   "execution_count": null,
   "id": "b8e49ecb",
   "metadata": {},
   "outputs": [
    {
     "name": "stdout",
     "output_type": "stream",
     "text": [
      "Correct Indentation\n",
      "This will print\n",
      "Outside the if block\n"
     ]
    }
   ],
   "source": [
    "## Code example of indentation\n",
    "if True:\n",
    "    print(\"Correct Indentation\")\n",
    "    if False:\n",
    "        print(\"This won't print\")\n",
    "    print(\"This will print\")\n",
    "print(\"Outside the if block\")"
   ]
  }
 ],
 "metadata": {
  "kernelspec": {
   "display_name": "base",
   "language": "python",
   "name": "python3"
  },
  "language_info": {
   "codemirror_mode": {
    "name": "ipython",
    "version": 3
   },
   "file_extension": ".py",
   "mimetype": "text/x-python",
   "name": "python",
   "nbconvert_exporter": "python",
   "pygments_lexer": "ipython3",
   "version": "3.13.5"
  }
 },
 "nbformat": 4,
 "nbformat_minor": 5
}
